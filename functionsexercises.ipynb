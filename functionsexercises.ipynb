{
 "cells": [
  {
   "cell_type": "code",
   "execution_count": 8,
   "metadata": {},
   "outputs": [
    {
     "name": "stdout",
     "output_type": "stream",
     "text": [
      "Hello Friend We Need Some of Your Basic Information\n",
      "Enter Age: \n",
      "> 23\n",
      "Enter Name:\n",
      "> Robert\n",
      "Robert is 23 years old\n"
     ]
    }
   ],
   "source": [
    "#Exercise 1: Create a function that can accept two arguments name and age and print its value\n",
    "#My code\n",
    "\n",
    "print(\"Hello Friend We Need Some of Your Basic Information\")\n",
    "\n",
    "def person():\n",
    "    print(\"Enter Age: \")\n",
    "    age = input(\"> \")\n",
    "    print(\"Enter Name:\")\n",
    "    name = input(\"> \")\n",
    "    \n",
    "    print(name, \"is\", age, \"years old\")\n",
    "\n",
    "person()"
   ]
  },
  {
   "cell_type": "code",
   "execution_count": 10,
   "metadata": {},
   "outputs": [
    {
     "name": "stdout",
     "output_type": "stream",
     "text": [
      "Ben 25\n"
     ]
    }
   ],
   "source": [
    "#Exercise 1: Create a function that can accept two arguments name and age and print its value\n",
    "#Solution\n",
    "\n",
    "def person(name, age):\n",
    "    print(name, age)\n",
    "    \n",
    "person(\"Ben\", 25)\n"
   ]
  },
  {
   "cell_type": "code",
   "execution_count": 72,
   "metadata": {},
   "outputs": [
    {
     "name": "stdout",
     "output_type": "stream",
     "text": [
      "20\n",
      "40\n",
      "60\n",
      "80\n",
      "100\n"
     ]
    }
   ],
   "source": [
    "#Exercise 2: Write a function func1() such that it can accept a variable length of  argument and print all arguments value\n",
    "#Solution\n",
    "\n",
    "def func1(*args):\n",
    "    for i in args:\n",
    "        print(i)\n",
    "    \n",
    "func1(20, 40, 60)\n",
    "func1(80, 100)\n"
   ]
  },
  {
   "cell_type": "code",
   "execution_count": 29,
   "metadata": {},
   "outputs": [
    {
     "name": "stdout",
     "output_type": "stream",
     "text": [
      "(50, 30)\n"
     ]
    }
   ],
   "source": [
    "#Exercise 3:Write a function calculation() such that it can accept two variables and calculate \n",
    "#the addition and subtraction of them. And also it must return both addition and subtraction in \n",
    "#a single return call\n",
    "\n",
    "#return ends the execution of a function an returns the result to the caller\n",
    "#in this program the return will return the result to res\n",
    "\n",
    "def calculation(a, b):\n",
    "    return a + b, a - b\n",
    "    \n",
    "res = calculation(40, 10)\n",
    "print(res)"
   ]
  },
  {
   "cell_type": "code",
   "execution_count": 41,
   "metadata": {},
   "outputs": [
    {
     "name": "stdout",
     "output_type": "stream",
     "text": [
      "Employee Ben salary is: 9000\n",
      "Employee Ben salary is: 9000\n"
     ]
    }
   ],
   "source": [
    "#Exercise 4: Create a function showEmployee() in such a way that it should accept employee name, \n",
    "#and its salary and display both. If the salary is missing in the function call assign default \n",
    "#value 9000 to salary\n",
    "#solution\n",
    "\n",
    "def showEmployee(name, salary=9000):\n",
    "    print(\"Employee\", name, \"salary is:\", salary)\n",
    "\n",
    "showEmployee(\"Ben\", 9000)\n",
    "showEmployee(\"Ben\")\n",
    "    "
   ]
  },
  {
   "cell_type": "code",
   "execution_count": 67,
   "metadata": {},
   "outputs": [
    {
     "name": "stdout",
     "output_type": "stream",
     "text": [
      "20\n"
     ]
    }
   ],
   "source": [
    "#Exercise 5: Create an inner function to calculate the addition in the following way\n",
    "\n",
    "def func1(a,b):\n",
    "    square = a**2\n",
    "    def func2(a,b):\n",
    "        return a+b\n",
    "    \n",
    "    add = func2(a, b)\n",
    "    return add+5\n",
    "\n",
    "result = func1(5, 10)\n",
    "print(result)"
   ]
  },
  {
   "cell_type": "code",
   "execution_count": 56,
   "metadata": {},
   "outputs": [
    {
     "name": "stdout",
     "output_type": "stream",
     "text": [
      "55\n"
     ]
    }
   ],
   "source": [
    "#Exercise 6: Write a recursive function to calculate the sum of numbers from 0 to 10\n",
    "#code\n",
    "\n",
    "def func3():\n",
    "    sum = 0\n",
    "    for i in range(0, 11):\n",
    "        sum += i\n",
    "    print(sum)\n",
    "            \n",
    "func3()\n",
    "    "
   ]
  },
  {
   "cell_type": "code",
   "execution_count": 57,
   "metadata": {},
   "outputs": [
    {
     "name": "stdout",
     "output_type": "stream",
     "text": [
      "55\n"
     ]
    }
   ],
   "source": [
    "#Exercise 6: Write a recursive function to calculate the sum of numbers from 0 to 10\n",
    "#solution\n",
    "\n",
    "#A recursive function can call itself, which means it can loop through the data to reach itself\n",
    "\n",
    "def calculateSum(num):\n",
    "    if num:\n",
    "        return num + calculateSum(num-1)\n",
    "    else:\n",
    "        return 0\n",
    "    \n",
    "res = calculateSum(10)\n",
    "print(res)"
   ]
  },
  {
   "cell_type": "code",
   "execution_count": 60,
   "metadata": {},
   "outputs": [
    {
     "name": "stdout",
     "output_type": "stream",
     "text": [
      "Emma 26\n",
      "Robby 25\n"
     ]
    }
   ],
   "source": [
    "#Exercise 7: Assign a different name to function and call it through the new name\n",
    "\n",
    "def displayStudent(name, age):\n",
    "    print(name, age)\n",
    "    \n",
    "showStudent = displayStudent\n",
    "    \n",
    "displayStudent(\"Emma\", 26)\n",
    "showStudent(\"Robby\", 25)"
   ]
  },
  {
   "cell_type": "code",
   "execution_count": 64,
   "metadata": {},
   "outputs": [
    {
     "name": "stdout",
     "output_type": "stream",
     "text": [
      "[4, 6, 8, 10, 12, 14, 16, 18, 20, 22, 24, 26, 28]\n"
     ]
    }
   ],
   "source": [
    "#Exercise 8: Generate a Python list of all the even numbers between 4 to 30\n",
    "\n",
    "print(list(range(4, 30, 2)))"
   ]
  },
  {
   "cell_type": "code",
   "execution_count": 65,
   "metadata": {},
   "outputs": [
    {
     "name": "stdout",
     "output_type": "stream",
     "text": [
      "24\n"
     ]
    }
   ],
   "source": [
    "#Exercise 9: Return the largest item from the given list\n",
    "\n",
    "aList = [4, 6, 8, 24, 12, 2]\n",
    "\n",
    "maxList = max(aList)\n",
    "\n",
    "print(maxList)"
   ]
  }
 ],
 "metadata": {
  "kernelspec": {
   "display_name": "Python 3",
   "language": "python",
   "name": "python3"
  },
  "language_info": {
   "codemirror_mode": {
    "name": "ipython",
    "version": 3
   },
   "file_extension": ".py",
   "mimetype": "text/x-python",
   "name": "python",
   "nbconvert_exporter": "python",
   "pygments_lexer": "ipython3",
   "version": "3.8.3"
  }
 },
 "nbformat": 4,
 "nbformat_minor": 4
}
